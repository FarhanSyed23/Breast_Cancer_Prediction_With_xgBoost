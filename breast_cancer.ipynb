{
  "cells": [
    {
      "cell_type": "code",
      "execution_count": null,
      "metadata": {
        "id": "RzViv2NFJWk8"
      },
      "outputs": [],
      "source": [
        "import pandas as pd\n",
        "import numpy as np\n",
        "import matplotlib.pyplot as plt\n",
        "import seaborn as sns\n",
        "from sklearn.metrics import mean_squared_error\n",
        "from sklearn.metrics import explained_variance_score\n",
        "from sklearn.model_selection import cross_val_score\n",
        "from collections import Counter\n",
        "from sklearn.metrics import classification_report, confusion_matrix\n",
        "from IPython.core.display import display, HTML\n",
        "sns.set_style('darkgrid')"
      ]
    },
    {
      "cell_type": "code",
      "execution_count": null,
      "metadata": {
        "id": "QnsxXVFmJWlA"
      },
      "outputs": [],
      "source": [
        "boston_dataset = pd.read_csv(\"breast_cancer_dataset.csv\")"
      ]
    },
    {
      "cell_type": "code",
      "execution_count": null,
      "metadata": {
        "id": "Q_z3-bB0JWlB",
        "outputId": "7d015fc4-9f30-46f8-83e1-48d9b2ee0d21"
      },
      "outputs": [
        {
          "name": "stdout",
          "output_type": "stream",
          "text": [
            "Index(['clump_thickness', 'uniformity_of_cell_size',\n",
            "       'uniformity_of_cell_shape', 'marginal_adhesion',\n",
            "       'single_epithelial_cell_size', 'bare_nuclei', 'bland_chromatin',\n",
            "       'normal_nucleoli', 'mitosis', 'class'],\n",
            "      dtype='object')\n"
          ]
        }
      ],
      "source": [
        "print(boston_dataset.keys())"
      ]
    },
    {
      "cell_type": "code",
      "execution_count": null,
      "metadata": {
        "id": "Zv70Ff_yJWlC",
        "outputId": "5930503e-5eca-4236-ceeb-2e436c7729a5"
      },
      "outputs": [
        {
          "name": "stdout",
          "output_type": "stream",
          "text": [
            "(569, 10)\n"
          ]
        }
      ],
      "source": [
        "print(boston_dataset.shape)"
      ]
    },
    {
      "cell_type": "code",
      "execution_count": null,
      "metadata": {
        "id": "4GiNVKfSJWlD",
        "outputId": "10016c44-a495-4a38-d18c-4b2071ebb2b3"
      },
      "outputs": [
        {
          "data": {
            "text/html": [
              "<div>\n",
              "<style scoped>\n",
              "    .dataframe tbody tr th:only-of-type {\n",
              "        vertical-align: middle;\n",
              "    }\n",
              "\n",
              "    .dataframe tbody tr th {\n",
              "        vertical-align: top;\n",
              "    }\n",
              "\n",
              "    .dataframe thead th {\n",
              "        text-align: right;\n",
              "    }\n",
              "</style>\n",
              "<table border=\"1\" class=\"dataframe\">\n",
              "  <thead>\n",
              "    <tr style=\"text-align: right;\">\n",
              "      <th></th>\n",
              "      <th>clump_thickness</th>\n",
              "      <th>uniformity_of_cell_size</th>\n",
              "      <th>uniformity_of_cell_shape</th>\n",
              "      <th>marginal_adhesion</th>\n",
              "      <th>single_epithelial_cell_size</th>\n",
              "      <th>bare_nuclei</th>\n",
              "      <th>bland_chromatin</th>\n",
              "      <th>normal_nucleoli</th>\n",
              "      <th>mitosis</th>\n",
              "      <th>class</th>\n",
              "    </tr>\n",
              "  </thead>\n",
              "  <tbody>\n",
              "    <tr>\n",
              "      <th>0</th>\n",
              "      <td>5</td>\n",
              "      <td>1</td>\n",
              "      <td>1</td>\n",
              "      <td>1</td>\n",
              "      <td>2</td>\n",
              "      <td>1</td>\n",
              "      <td>3</td>\n",
              "      <td>1</td>\n",
              "      <td>1</td>\n",
              "      <td>2</td>\n",
              "    </tr>\n",
              "    <tr>\n",
              "      <th>1</th>\n",
              "      <td>5</td>\n",
              "      <td>4</td>\n",
              "      <td>4</td>\n",
              "      <td>5</td>\n",
              "      <td>7</td>\n",
              "      <td>10</td>\n",
              "      <td>3</td>\n",
              "      <td>2</td>\n",
              "      <td>1</td>\n",
              "      <td>2</td>\n",
              "    </tr>\n",
              "    <tr>\n",
              "      <th>2</th>\n",
              "      <td>3</td>\n",
              "      <td>1</td>\n",
              "      <td>1</td>\n",
              "      <td>1</td>\n",
              "      <td>2</td>\n",
              "      <td>2</td>\n",
              "      <td>3</td>\n",
              "      <td>1</td>\n",
              "      <td>1</td>\n",
              "      <td>2</td>\n",
              "    </tr>\n",
              "    <tr>\n",
              "      <th>3</th>\n",
              "      <td>6</td>\n",
              "      <td>8</td>\n",
              "      <td>8</td>\n",
              "      <td>1</td>\n",
              "      <td>3</td>\n",
              "      <td>4</td>\n",
              "      <td>3</td>\n",
              "      <td>7</td>\n",
              "      <td>1</td>\n",
              "      <td>2</td>\n",
              "    </tr>\n",
              "    <tr>\n",
              "      <th>4</th>\n",
              "      <td>4</td>\n",
              "      <td>1</td>\n",
              "      <td>1</td>\n",
              "      <td>3</td>\n",
              "      <td>2</td>\n",
              "      <td>1</td>\n",
              "      <td>3</td>\n",
              "      <td>1</td>\n",
              "      <td>1</td>\n",
              "      <td>2</td>\n",
              "    </tr>\n",
              "  </tbody>\n",
              "</table>\n",
              "</div>"
            ],
            "text/plain": [
              "   clump_thickness  uniformity_of_cell_size  uniformity_of_cell_shape  \\\n",
              "0                5                        1                         1   \n",
              "1                5                        4                         4   \n",
              "2                3                        1                         1   \n",
              "3                6                        8                         8   \n",
              "4                4                        1                         1   \n",
              "\n",
              "   marginal_adhesion  single_epithelial_cell_size  bare_nuclei  \\\n",
              "0                  1                            2            1   \n",
              "1                  5                            7           10   \n",
              "2                  1                            2            2   \n",
              "3                  1                            3            4   \n",
              "4                  3                            2            1   \n",
              "\n",
              "   bland_chromatin  normal_nucleoli  mitosis  class  \n",
              "0                3                1        1      2  \n",
              "1                3                2        1      2  \n",
              "2                3                1        1      2  \n",
              "3                3                7        1      2  \n",
              "4                3                1        1      2  "
            ]
          },
          "execution_count": 57,
          "metadata": {},
          "output_type": "execute_result"
        }
      ],
      "source": [
        "boston_dataset.head()"
      ]
    },
    {
      "cell_type": "code",
      "execution_count": null,
      "metadata": {
        "id": "uEUrpTMFJWlD",
        "outputId": "32ac1186-08d9-41a6-84b8-1f51ec7ff22e"
      },
      "outputs": [
        {
          "name": "stdout",
          "output_type": "stream",
          "text": [
            "<class 'pandas.core.frame.DataFrame'>\n",
            "RangeIndex: 569 entries, 0 to 568\n",
            "Data columns (total 10 columns):\n",
            " #   Column                       Non-Null Count  Dtype\n",
            "---  ------                       --------------  -----\n",
            " 0   clump_thickness              569 non-null    int64\n",
            " 1   uniformity_of_cell_size      569 non-null    int64\n",
            " 2   uniformity_of_cell_shape     569 non-null    int64\n",
            " 3   marginal_adhesion            569 non-null    int64\n",
            " 4   single_epithelial_cell_size  569 non-null    int64\n",
            " 5   bare_nuclei                  569 non-null    int64\n",
            " 6   bland_chromatin              569 non-null    int64\n",
            " 7   normal_nucleoli              569 non-null    int64\n",
            " 8   mitosis                      569 non-null    int64\n",
            " 9   class                        569 non-null    int64\n",
            "dtypes: int64(10)\n",
            "memory usage: 44.6 KB\n"
          ]
        }
      ],
      "source": [
        "boston_dataset.info()"
      ]
    },
    {
      "cell_type": "code",
      "execution_count": null,
      "metadata": {
        "id": "GVxcJadVJWlE",
        "outputId": "37124cde-8342-4b12-c015-c8da5ee865c8"
      },
      "outputs": [
        {
          "data": {
            "text/html": [
              "<div>\n",
              "<style scoped>\n",
              "    .dataframe tbody tr th:only-of-type {\n",
              "        vertical-align: middle;\n",
              "    }\n",
              "\n",
              "    .dataframe tbody tr th {\n",
              "        vertical-align: top;\n",
              "    }\n",
              "\n",
              "    .dataframe thead th {\n",
              "        text-align: right;\n",
              "    }\n",
              "</style>\n",
              "<table border=\"1\" class=\"dataframe\">\n",
              "  <thead>\n",
              "    <tr style=\"text-align: right;\">\n",
              "      <th></th>\n",
              "      <th>clump_thickness</th>\n",
              "      <th>uniformity_of_cell_size</th>\n",
              "      <th>uniformity_of_cell_shape</th>\n",
              "      <th>marginal_adhesion</th>\n",
              "      <th>single_epithelial_cell_size</th>\n",
              "      <th>bare_nuclei</th>\n",
              "      <th>bland_chromatin</th>\n",
              "      <th>normal_nucleoli</th>\n",
              "      <th>mitosis</th>\n",
              "      <th>class</th>\n",
              "    </tr>\n",
              "  </thead>\n",
              "  <tbody>\n",
              "    <tr>\n",
              "      <th>count</th>\n",
              "      <td>569.000000</td>\n",
              "      <td>569.000000</td>\n",
              "      <td>569.000000</td>\n",
              "      <td>569.000000</td>\n",
              "      <td>569.000000</td>\n",
              "      <td>569.000000</td>\n",
              "      <td>569.000000</td>\n",
              "      <td>569.000000</td>\n",
              "      <td>569.000000</td>\n",
              "      <td>569.000000</td>\n",
              "    </tr>\n",
              "    <tr>\n",
              "      <th>mean</th>\n",
              "      <td>4.539543</td>\n",
              "      <td>3.184534</td>\n",
              "      <td>3.265378</td>\n",
              "      <td>2.845343</td>\n",
              "      <td>3.298770</td>\n",
              "      <td>-2632.518453</td>\n",
              "      <td>3.490334</td>\n",
              "      <td>2.989455</td>\n",
              "      <td>1.637961</td>\n",
              "      <td>2.731107</td>\n",
              "    </tr>\n",
              "    <tr>\n",
              "      <th>std</th>\n",
              "      <td>2.896501</td>\n",
              "      <td>3.002236</td>\n",
              "      <td>2.955935</td>\n",
              "      <td>2.873626</td>\n",
              "      <td>2.304775</td>\n",
              "      <td>16035.653408</td>\n",
              "      <td>2.324925</td>\n",
              "      <td>3.091315</td>\n",
              "      <td>1.773941</td>\n",
              "      <td>0.964018</td>\n",
              "    </tr>\n",
              "    <tr>\n",
              "      <th>min</th>\n",
              "      <td>1.000000</td>\n",
              "      <td>1.000000</td>\n",
              "      <td>1.000000</td>\n",
              "      <td>1.000000</td>\n",
              "      <td>1.000000</td>\n",
              "      <td>-100000.000000</td>\n",
              "      <td>1.000000</td>\n",
              "      <td>1.000000</td>\n",
              "      <td>1.000000</td>\n",
              "      <td>2.000000</td>\n",
              "    </tr>\n",
              "    <tr>\n",
              "      <th>25%</th>\n",
              "      <td>2.000000</td>\n",
              "      <td>1.000000</td>\n",
              "      <td>1.000000</td>\n",
              "      <td>1.000000</td>\n",
              "      <td>2.000000</td>\n",
              "      <td>1.000000</td>\n",
              "      <td>2.000000</td>\n",
              "      <td>1.000000</td>\n",
              "      <td>1.000000</td>\n",
              "      <td>2.000000</td>\n",
              "    </tr>\n",
              "    <tr>\n",
              "      <th>50%</th>\n",
              "      <td>4.000000</td>\n",
              "      <td>1.000000</td>\n",
              "      <td>2.000000</td>\n",
              "      <td>1.000000</td>\n",
              "      <td>2.000000</td>\n",
              "      <td>1.000000</td>\n",
              "      <td>3.000000</td>\n",
              "      <td>1.000000</td>\n",
              "      <td>1.000000</td>\n",
              "      <td>2.000000</td>\n",
              "    </tr>\n",
              "    <tr>\n",
              "      <th>75%</th>\n",
              "      <td>6.000000</td>\n",
              "      <td>5.000000</td>\n",
              "      <td>5.000000</td>\n",
              "      <td>4.000000</td>\n",
              "      <td>4.000000</td>\n",
              "      <td>8.000000</td>\n",
              "      <td>5.000000</td>\n",
              "      <td>4.000000</td>\n",
              "      <td>1.000000</td>\n",
              "      <td>4.000000</td>\n",
              "    </tr>\n",
              "    <tr>\n",
              "      <th>max</th>\n",
              "      <td>10.000000</td>\n",
              "      <td>10.000000</td>\n",
              "      <td>10.000000</td>\n",
              "      <td>10.000000</td>\n",
              "      <td>10.000000</td>\n",
              "      <td>10.000000</td>\n",
              "      <td>10.000000</td>\n",
              "      <td>10.000000</td>\n",
              "      <td>10.000000</td>\n",
              "      <td>4.000000</td>\n",
              "    </tr>\n",
              "  </tbody>\n",
              "</table>\n",
              "</div>"
            ],
            "text/plain": [
              "       clump_thickness  uniformity_of_cell_size  uniformity_of_cell_shape  \\\n",
              "count       569.000000               569.000000                569.000000   \n",
              "mean          4.539543                 3.184534                  3.265378   \n",
              "std           2.896501                 3.002236                  2.955935   \n",
              "min           1.000000                 1.000000                  1.000000   \n",
              "25%           2.000000                 1.000000                  1.000000   \n",
              "50%           4.000000                 1.000000                  2.000000   \n",
              "75%           6.000000                 5.000000                  5.000000   \n",
              "max          10.000000                10.000000                 10.000000   \n",
              "\n",
              "       marginal_adhesion  single_epithelial_cell_size    bare_nuclei  \\\n",
              "count         569.000000                   569.000000     569.000000   \n",
              "mean            2.845343                     3.298770   -2632.518453   \n",
              "std             2.873626                     2.304775   16035.653408   \n",
              "min             1.000000                     1.000000 -100000.000000   \n",
              "25%             1.000000                     2.000000       1.000000   \n",
              "50%             1.000000                     2.000000       1.000000   \n",
              "75%             4.000000                     4.000000       8.000000   \n",
              "max            10.000000                    10.000000      10.000000   \n",
              "\n",
              "       bland_chromatin  normal_nucleoli     mitosis       class  \n",
              "count       569.000000       569.000000  569.000000  569.000000  \n",
              "mean          3.490334         2.989455    1.637961    2.731107  \n",
              "std           2.324925         3.091315    1.773941    0.964018  \n",
              "min           1.000000         1.000000    1.000000    2.000000  \n",
              "25%           2.000000         1.000000    1.000000    2.000000  \n",
              "50%           3.000000         1.000000    1.000000    2.000000  \n",
              "75%           5.000000         4.000000    1.000000    4.000000  \n",
              "max          10.000000        10.000000   10.000000    4.000000  "
            ]
          },
          "execution_count": 59,
          "metadata": {},
          "output_type": "execute_result"
        }
      ],
      "source": [
        "boston_dataset.describe()"
      ]
    },
    {
      "cell_type": "code",
      "execution_count": null,
      "metadata": {
        "id": "APLpUlj5JWlF",
        "outputId": "5e5ca234-031b-4c40-9f77-43f08565c418"
      },
      "outputs": [
        {
          "data": {
            "text/plain": [
              "clump_thickness                0\n",
              "uniformity_of_cell_size        0\n",
              "uniformity_of_cell_shape       0\n",
              "marginal_adhesion              0\n",
              "single_epithelial_cell_size    0\n",
              "bare_nuclei                    0\n",
              "bland_chromatin                0\n",
              "normal_nucleoli                0\n",
              "mitosis                        0\n",
              "class                          0\n",
              "dtype: int64"
            ]
          },
          "execution_count": 60,
          "metadata": {},
          "output_type": "execute_result"
        }
      ],
      "source": [
        "boston_dataset.isnull().sum()"
      ]
    },
    {
      "cell_type": "code",
      "execution_count": null,
      "metadata": {
        "id": "VLJ2ddtJJWlG"
      },
      "outputs": [],
      "source": [
        "import xgboost as xgb\n",
        "from sklearn.metrics import mean_squared_error\n",
        "import pandas as pd\n",
        "import numpy as np"
      ]
    },
    {
      "cell_type": "code",
      "execution_count": null,
      "metadata": {
        "id": "VBIiktyEJWlH"
      },
      "outputs": [],
      "source": [
        "X, y = boston_dataset.iloc[:,:-1], boston_dataset.iloc[:,-1]"
      ]
    },
    {
      "cell_type": "code",
      "execution_count": null,
      "metadata": {
        "id": "uDf5bNGCJWlI"
      },
      "outputs": [],
      "source": [
        "from sklearn.model_selection import train_test_split\n",
        "\n",
        "X_train, X_test, y_train, y_test = train_test_split(X, y, test_size=0.2, random_state=123)"
      ]
    },
    {
      "cell_type": "code",
      "execution_count": null,
      "metadata": {
        "id": "xt_y1X2nJWlJ"
      },
      "outputs": [],
      "source": [
        "xg_reg = xgb.XGBClassifier(objective ='reg:squarederror', colsample_bytree = 0.3, learning_rate = 0.1,\n",
        "                max_depth = 5, alpha = 10, n_estimators = 10)"
      ]
    },
    {
      "cell_type": "code",
      "execution_count": null,
      "metadata": {
        "id": "TBRRlBcDJWlJ"
      },
      "outputs": [],
      "source": [
        "xg_reg.fit(X_train,y_train)\n",
        "\n",
        "preds = xg_reg.predict(X_test)"
      ]
    },
    {
      "cell_type": "code",
      "execution_count": null,
      "metadata": {
        "id": "5tcPH1LOJWlJ",
        "outputId": "c5458a46-441d-483f-e44b-18aafa750c96"
      },
      "outputs": [
        {
          "name": "stdout",
          "output_type": "stream",
          "text": [
            "0.7655317655317656\n"
          ]
        }
      ],
      "source": [
        "print((explained_variance_score(preds, y_test)))"
      ]
    },
    {
      "cell_type": "code",
      "execution_count": null,
      "metadata": {
        "id": "Es9eIO09JWlK"
      },
      "outputs": [],
      "source": []
    },
    {
      "cell_type": "code",
      "execution_count": null,
      "metadata": {
        "id": "klhf2b6CJWlK"
      },
      "outputs": [],
      "source": [
        "predictions= [round(value) for value in preds]"
      ]
    },
    {
      "cell_type": "code",
      "execution_count": null,
      "metadata": {
        "id": "0g-y2wAvJWlK",
        "outputId": "af3ced93-ebc9-4bc5-e4a7-958e461c2afe"
      },
      "outputs": [
        {
          "name": "stdout",
          "output_type": "stream",
          "text": [
            "Accuracy: 94.74%\n"
          ]
        }
      ],
      "source": [
        "from sklearn.metrics import accuracy_score\n",
        "accuracy = accuracy_score(y_test, predictions)\n",
        "print(\"Accuracy: %.2f%%\" % (accuracy * 100.0))"
      ]
    },
    {
      "cell_type": "code",
      "execution_count": null,
      "metadata": {
        "id": "JY6dyo3eJWlL",
        "outputId": "fc70bda5-4a82-4391-a6c1-b0e817a19339"
      },
      "outputs": [
        {
          "name": "stdout",
          "output_type": "stream",
          "text": [
            "RMSE: 0.458831\n"
          ]
        }
      ],
      "source": [
        "rmse = np.sqrt(mean_squared_error(y_test, preds))\n",
        "print(\"RMSE: %f\" % (rmse))"
      ]
    },
    {
      "cell_type": "code",
      "execution_count": null,
      "metadata": {
        "id": "kEgRBlM3JWlL"
      },
      "outputs": [],
      "source": [
        "data_dmatrix = xgb.DMatrix(data=X,label=y)"
      ]
    },
    {
      "cell_type": "code",
      "execution_count": null,
      "metadata": {
        "id": "gngmsnwEJWlL"
      },
      "outputs": [],
      "source": [
        "params = {\"objective\":\"reg:squarederror\",'colsample_bytree': 0.3,'learning_rate': 0.1,\n",
        "                'max_depth': 6, 'alpha': 10}\n",
        "\n",
        "cv_results = xgb.cv(dtrain=data_dmatrix, params=params, nfold=3,\n",
        "                    num_boost_round=50,early_stopping_rounds=10,metrics=\"rmse\", as_pandas=True, seed=123)"
      ]
    },
    {
      "cell_type": "code",
      "execution_count": null,
      "metadata": {
        "id": "iQc1dWWnJWlM",
        "outputId": "4d5c3d3d-44f8-416f-d7b2-3259f28c609e"
      },
      "outputs": [
        {
          "name": "stdout",
          "output_type": "stream",
          "text": [
            "    train-rmse-mean  train-rmse-std  test-rmse-mean  test-rmse-std\n",
            "0          2.210975        0.033843        2.210113       0.073441\n",
            "1          2.013396        0.030787        2.010968       0.075583\n",
            "2          1.833885        0.025935        1.833827       0.075208\n",
            "3          1.675273        0.023632        1.672628       0.075905\n",
            "4          1.527137        0.021568        1.527862       0.072846\n",
            "5          1.397207        0.023390        1.395943       0.070725\n",
            "6          1.278356        0.021960        1.278194       0.068995\n",
            "7          1.172473        0.019720        1.174948       0.067038\n",
            "8          1.080341        0.017441        1.083463       0.064809\n",
            "9          0.996170        0.016138        1.001261       0.063991\n",
            "10         0.921585        0.017405        0.927339       0.062211\n",
            "11         0.854023        0.017077        0.860638       0.059654\n",
            "12         0.793697        0.016097        0.802694       0.058672\n",
            "13         0.741146        0.015732        0.750540       0.056291\n",
            "14         0.695304        0.015915        0.705749       0.054832\n",
            "15         0.654509        0.014405        0.666337       0.053655\n",
            "16         0.618063        0.016742        0.631289       0.049511\n",
            "17         0.587842        0.018144        0.600807       0.047981\n",
            "18         0.560147        0.017673        0.573391       0.047097\n",
            "19         0.536502        0.016380        0.551391       0.047324\n",
            "20         0.514158        0.015397        0.529950       0.046720\n",
            "21         0.495231        0.015654        0.512236       0.045262\n",
            "22         0.479117        0.016189        0.497109       0.044714\n",
            "23         0.463097        0.017063        0.481618       0.042881\n",
            "24         0.451553        0.018116        0.470895       0.042814\n",
            "25         0.440231        0.018165        0.460460       0.042271\n",
            "26         0.430688        0.017975        0.450903       0.042845\n",
            "27         0.421954        0.017776        0.442397       0.042307\n",
            "28         0.414512        0.019220        0.434943       0.041076\n",
            "29         0.407747        0.020170        0.428333       0.039949\n",
            "30         0.402487        0.021336        0.423419       0.038805\n",
            "31         0.397832        0.021630        0.419688       0.038891\n",
            "32         0.394454        0.021794        0.416431       0.038876\n",
            "33         0.391111        0.021433        0.413200       0.039455\n",
            "34         0.387569        0.020646        0.409803       0.040417\n",
            "35         0.384364        0.021279        0.406445       0.040485\n",
            "36         0.381967        0.021441        0.404362       0.040732\n",
            "37         0.379946        0.021834        0.402598       0.040822\n",
            "38         0.378275        0.021717        0.400822       0.041267\n",
            "39         0.376431        0.021257        0.399079       0.041859\n",
            "40         0.374540        0.021063        0.397831       0.042452\n",
            "41         0.373321        0.021132        0.396894       0.042661\n",
            "42         0.372421        0.021051        0.395913       0.042951\n",
            "43         0.371235        0.020808        0.395028       0.043637\n",
            "44         0.370589        0.020799        0.394364       0.043799\n",
            "45         0.369903        0.020982        0.393899       0.044094\n",
            "46         0.369072        0.021026        0.393523       0.044355\n",
            "47         0.367981        0.021490        0.392848       0.044278\n",
            "48         0.367520        0.021626        0.392456       0.044373\n",
            "49         0.366477        0.021789        0.391705       0.044360\n"
          ]
        }
      ],
      "source": [
        "print(cv_results)"
      ]
    },
    {
      "cell_type": "code",
      "execution_count": null,
      "metadata": {
        "id": "3mzWd7kyJWlM",
        "outputId": "94344f51-c1f6-4418-ea01-4f731948baf0"
      },
      "outputs": [
        {
          "name": "stdout",
          "output_type": "stream",
          "text": [
            "49    0.391705\n",
            "Name: test-rmse-mean, dtype: float64\n"
          ]
        }
      ],
      "source": [
        "print((cv_results[\"test-rmse-mean\"]).tail(1))"
      ]
    },
    {
      "cell_type": "code",
      "execution_count": null,
      "metadata": {
        "id": "QwMp8FfFJWlM"
      },
      "outputs": [],
      "source": [
        "xg_reg = xgb.train(params=params, dtrain=data_dmatrix, num_boost_round=10)"
      ]
    },
    {
      "cell_type": "code",
      "execution_count": null,
      "metadata": {
        "id": "GW5UNFysJWlM",
        "outputId": "17c89482-d051-4c8c-a169-86e92857171a"
      },
      "outputs": [
        {
          "data": {
            "image/png": "[encoded data removed]",
            "text/plain": [
              "<Figure size 5760x2880 with 1 Axes>"
            ]
          },
          "metadata": {},
          "output_type": "display_data"
        }
      ],
      "source": [
        "import matplotlib.pyplot as plt\n",
        "\n",
        "xgb.plot_tree(xg_reg,num_trees=9)\n",
        "plt.rcParams['figure.figsize'] = [80, 40]\n",
        "plt.show()"
      ]
    },
    {
      "cell_type": "code",
      "execution_count": null,
      "metadata": {
        "id": "hbc0N2MiJWlN",
        "outputId": "515e1a01-81c2-4bda-f455-c11b2d6f2938"
      },
      "outputs": [
        {
          "data": {
            "image/png": "[encoded data removed]",
            "text/plain": [
              "<Figure size 1080x1080 with 1 Axes>"
            ]
          },
          "metadata": {},
          "output_type": "display_data"
        }
      ],
      "source": [
        "xgb.plot_importance(xg_reg)\n",
        "plt.rcParams['figure.figsize'] = [15, 15]\n",
        "plt.show()"
      ]
    },
    {
      "cell_type": "code",
      "execution_count": null,
      "metadata": {
        "id": "sCIJIvdNJWlN",
        "outputId": "359c388e-c1bd-491a-f8d3-840ace6b1d46"
      },
      "outputs": [
        {
          "name": "stdout",
          "output_type": "stream",
          "text": [
            "Confusion Matrix:\n",
            "[[72  1]\n",
            " [ 5 36]]\n"
          ]
        }
      ],
      "source": [
        "print(\"Confusion Matrix:\")\n",
        "print(confusion_matrix(y_test, preds))\n",
        "\n"
      ]
    },
    {
      "cell_type": "code",
      "execution_count": null,
      "metadata": {
        "id": "3U8JasmsJWlN",
        "outputId": "b26230bb-7684-4a38-9da1-f61090a48d08"
      },
      "outputs": [
        {
          "name": "stdout",
          "output_type": "stream",
          "text": [
            "Classification Report\n",
            "              precision    recall  f1-score   support\n",
            "\n",
            "           2       0.94      0.99      0.96        73\n",
            "           4       0.97      0.88      0.92        41\n",
            "\n",
            "    accuracy                           0.95       114\n",
            "   macro avg       0.95      0.93      0.94       114\n",
            "weighted avg       0.95      0.95      0.95       114\n",
            "\n",
            "Accuracy of the XGBoost algorithm: 94.74%\n"
          ]
        }
      ],
      "source": [
        "print(\"Classification Report\")\n",
        "print(classification_report(y_test, preds))\n",
        "print(\"Accuracy of the XGBoost algorithm: %.2f%%\" % (accuracy * 100.0))"
      ]
    },
    {
      "cell_type": "code",
      "execution_count": null,
      "metadata": {
        "id": "m__nBSCeJWlN"
      },
      "outputs": [],
      "source": [
        "import pingouin as pg"
      ]
    },
    {
      "cell_type": "code",
      "execution_count": null,
      "metadata": {
        "id": "H8bmncXNJWlO"
      },
      "outputs": [],
      "source": [
        "import seaborn as sns\n",
        "import matplotlib.pyplot as plt\n",
        "from scipy.stats import pearsonr\n",
        "sns.set(style='white', font_scale=1.2)"
      ]
    },
    {
      "cell_type": "code",
      "execution_count": null,
      "metadata": {
        "id": "2BiCO1VaJWlO",
        "outputId": "056855ef-e975-4f11-c536-470fa4dd6aa2"
      },
      "outputs": [
        {
          "data": {
            "text/html": [
              "<div>\n",
              "<style scoped>\n",
              "    .dataframe tbody tr th:only-of-type {\n",
              "        vertical-align: middle;\n",
              "    }\n",
              "\n",
              "    .dataframe tbody tr th {\n",
              "        vertical-align: top;\n",
              "    }\n",
              "\n",
              "    .dataframe thead th {\n",
              "        text-align: right;\n",
              "    }\n",
              "</style>\n",
              "<table border=\"1\" class=\"dataframe\">\n",
              "  <thead>\n",
              "    <tr style=\"text-align: right;\">\n",
              "      <th></th>\n",
              "      <th>clump_thickness</th>\n",
              "      <th>uniformity_of_cell_size</th>\n",
              "      <th>uniformity_of_cell_shape</th>\n",
              "      <th>marginal_adhesion</th>\n",
              "      <th>single_epithelial_cell_size</th>\n",
              "      <th>bare_nuclei</th>\n",
              "      <th>bland_chromatin</th>\n",
              "      <th>normal_nucleoli</th>\n",
              "      <th>mitosis</th>\n",
              "      <th>class</th>\n",
              "    </tr>\n",
              "  </thead>\n",
              "  <tbody>\n",
              "    <tr>\n",
              "      <th>clump_thickness</th>\n",
              "      <td>1.00</td>\n",
              "      <td>0.66</td>\n",
              "      <td>0.67</td>\n",
              "      <td>0.47</td>\n",
              "      <td>0.52</td>\n",
              "      <td>0.06</td>\n",
              "      <td>0.56</td>\n",
              "      <td>0.54</td>\n",
              "      <td>0.36</td>\n",
              "      <td>0.73</td>\n",
              "    </tr>\n",
              "    <tr>\n",
              "      <th>uniformity_of_cell_size</th>\n",
              "      <td>0.66</td>\n",
              "      <td>1.00</td>\n",
              "      <td>0.91</td>\n",
              "      <td>0.68</td>\n",
              "      <td>0.75</td>\n",
              "      <td>0.04</td>\n",
              "      <td>0.72</td>\n",
              "      <td>0.72</td>\n",
              "      <td>0.48</td>\n",
              "      <td>0.80</td>\n",
              "    </tr>\n",
              "    <tr>\n",
              "      <th>uniformity_of_cell_shape</th>\n",
              "      <td>0.67</td>\n",
              "      <td>0.91</td>\n",
              "      <td>1.00</td>\n",
              "      <td>0.66</td>\n",
              "      <td>0.72</td>\n",
              "      <td>0.01</td>\n",
              "      <td>0.71</td>\n",
              "      <td>0.71</td>\n",
              "      <td>0.45</td>\n",
              "      <td>0.81</td>\n",
              "    </tr>\n",
              "    <tr>\n",
              "      <th>marginal_adhesion</th>\n",
              "      <td>0.47</td>\n",
              "      <td>0.68</td>\n",
              "      <td>0.66</td>\n",
              "      <td>1.00</td>\n",
              "      <td>0.58</td>\n",
              "      <td>0.06</td>\n",
              "      <td>0.63</td>\n",
              "      <td>0.60</td>\n",
              "      <td>0.42</td>\n",
              "      <td>0.67</td>\n",
              "    </tr>\n",
              "    <tr>\n",
              "      <th>single_epithelial_cell_size</th>\n",
              "      <td>0.52</td>\n",
              "      <td>0.75</td>\n",
              "      <td>0.72</td>\n",
              "      <td>0.58</td>\n",
              "      <td>1.00</td>\n",
              "      <td>0.05</td>\n",
              "      <td>0.59</td>\n",
              "      <td>0.62</td>\n",
              "      <td>0.48</td>\n",
              "      <td>0.67</td>\n",
              "    </tr>\n",
              "    <tr>\n",
              "      <th>bare_nuclei</th>\n",
              "      <td>0.06</td>\n",
              "      <td>0.04</td>\n",
              "      <td>0.01</td>\n",
              "      <td>0.06</td>\n",
              "      <td>0.05</td>\n",
              "      <td>1.00</td>\n",
              "      <td>0.02</td>\n",
              "      <td>0.01</td>\n",
              "      <td>0.06</td>\n",
              "      <td>0.08</td>\n",
              "    </tr>\n",
              "    <tr>\n",
              "      <th>bland_chromatin</th>\n",
              "      <td>0.56</td>\n",
              "      <td>0.72</td>\n",
              "      <td>0.71</td>\n",
              "      <td>0.63</td>\n",
              "      <td>0.59</td>\n",
              "      <td>0.02</td>\n",
              "      <td>1.00</td>\n",
              "      <td>0.65</td>\n",
              "      <td>0.34</td>\n",
              "      <td>0.72</td>\n",
              "    </tr>\n",
              "    <tr>\n",
              "      <th>normal_nucleoli</th>\n",
              "      <td>0.54</td>\n",
              "      <td>0.72</td>\n",
              "      <td>0.71</td>\n",
              "      <td>0.60</td>\n",
              "      <td>0.62</td>\n",
              "      <td>0.01</td>\n",
              "      <td>0.65</td>\n",
              "      <td>1.00</td>\n",
              "      <td>0.42</td>\n",
              "      <td>0.70</td>\n",
              "    </tr>\n",
              "    <tr>\n",
              "      <th>mitosis</th>\n",
              "      <td>0.36</td>\n",
              "      <td>0.48</td>\n",
              "      <td>0.45</td>\n",
              "      <td>0.42</td>\n",
              "      <td>0.48</td>\n",
              "      <td>0.06</td>\n",
              "      <td>0.34</td>\n",
              "      <td>0.42</td>\n",
              "      <td>1.00</td>\n",
              "      <td>0.43</td>\n",
              "    </tr>\n",
              "    <tr>\n",
              "      <th>class</th>\n",
              "      <td>0.73</td>\n",
              "      <td>0.80</td>\n",
              "      <td>0.81</td>\n",
              "      <td>0.67</td>\n",
              "      <td>0.67</td>\n",
              "      <td>0.08</td>\n",
              "      <td>0.72</td>\n",
              "      <td>0.70</td>\n",
              "      <td>0.43</td>\n",
              "      <td>1.00</td>\n",
              "    </tr>\n",
              "  </tbody>\n",
              "</table>\n",
              "</div>"
            ],
            "text/plain": [
              "                             clump_thickness  uniformity_of_cell_size  \\\n",
              "clump_thickness                         1.00                     0.66   \n",
              "uniformity_of_cell_size                 0.66                     1.00   \n",
              "uniformity_of_cell_shape                0.67                     0.91   \n",
              "marginal_adhesion                       0.47                     0.68   \n",
              "single_epithelial_cell_size             0.52                     0.75   \n",
              "bare_nuclei                             0.06                     0.04   \n",
              "bland_chromatin                         0.56                     0.72   \n",
              "normal_nucleoli                         0.54                     0.72   \n",
              "mitosis                                 0.36                     0.48   \n",
              "class                                   0.73                     0.80   \n",
              "\n",
              "                             uniformity_of_cell_shape  marginal_adhesion  \\\n",
              "clump_thickness                                  0.67               0.47   \n",
              "uniformity_of_cell_size                          0.91               0.68   \n",
              "uniformity_of_cell_shape                         1.00               0.66   \n",
              "marginal_adhesion                                0.66               1.00   \n",
              "single_epithelial_cell_size                      0.72               0.58   \n",
              "bare_nuclei                                      0.01               0.06   \n",
              "bland_chromatin                                  0.71               0.63   \n",
              "normal_nucleoli                                  0.71               0.60   \n",
              "mitosis                                          0.45               0.42   \n",
              "class                                            0.81               0.67   \n",
              "\n",
              "                             single_epithelial_cell_size  bare_nuclei  \\\n",
              "clump_thickness                                     0.52         0.06   \n",
              "uniformity_of_cell_size                             0.75         0.04   \n",
              "uniformity_of_cell_shape                            0.72         0.01   \n",
              "marginal_adhesion                                   0.58         0.06   \n",
              "single_epithelial_cell_size                         1.00         0.05   \n",
              "bare_nuclei                                         0.05         1.00   \n",
              "bland_chromatin                                     0.59         0.02   \n",
              "normal_nucleoli                                     0.62         0.01   \n",
              "mitosis                                             0.48         0.06   \n",
              "class                                               0.67         0.08   \n",
              "\n",
              "                             bland_chromatin  normal_nucleoli  mitosis  class  \n",
              "clump_thickness                         0.56             0.54     0.36   0.73  \n",
              "uniformity_of_cell_size                 0.72             0.72     0.48   0.80  \n",
              "uniformity_of_cell_shape                0.71             0.71     0.45   0.81  \n",
              "marginal_adhesion                       0.63             0.60     0.42   0.67  \n",
              "single_epithelial_cell_size             0.59             0.62     0.48   0.67  \n",
              "bare_nuclei                             0.02             0.01     0.06   0.08  \n",
              "bland_chromatin                         1.00             0.65     0.34   0.72  \n",
              "normal_nucleoli                         0.65             1.00     0.42   0.70  \n",
              "mitosis                                 0.34             0.42     1.00   0.43  \n",
              "class                                   0.72             0.70     0.43   1.00  "
            ]
          },
          "execution_count": 33,
          "metadata": {},
          "output_type": "execute_result"
        }
      ],
      "source": [
        "\n",
        "boston_dataset.corr().round(2)"
      ]
    },
    {
      "cell_type": "code",
      "execution_count": null,
      "metadata": {
        "id": "0RHhLLXcJWlO",
        "outputId": "2acb9e8c-db1f-4878-b8a4-a5535ceffc16"
      },
      "outputs": [
        {
          "data": {
            "text/plain": [
              "Text(0.5, 1, 'Correlation matrix')"
            ]
          },
          "execution_count": 36,
          "metadata": {},
          "output_type": "execute_result"
        },
        {
          "data": {
            "image/png": "[encoded data removed]",
            "text/plain": [
              "<Figure size 1080x1080 with 2 Axes>"
            ]
          },
          "metadata": {},
          "output_type": "display_data"
        }
      ],
      "source": [
        "corrs = boston_dataset.corr()\n",
        "mask = np.zeros_like(corrs)\n",
        "mask[np.triu_indices_from(mask)] = True\n",
        "sns.heatmap(corrs, cmap='Spectral_r', mask=mask, square=True, vmin=-.4, vmax=.4)\n",
        "plt.title('Correlation matrix')"
      ]
    },
    {
      "cell_type": "code",
      "execution_count": null,
      "metadata": {
        "id": "JQGdUyWPJWlO"
      },
      "outputs": [],
      "source": []
    }
  ],
  "metadata": {
    "kernelspec": {
      "display_name": "Python 3",
      "language": "python",
      "name": "python3"
    },
    "language_info": {
      "codemirror_mode": {
        "name": "ipython",
        "version": 3
      },
      "file_extension": ".py",
      "mimetype": "text/x-python",
      "name": "python",
      "nbconvert_exporter": "python",
      "pygments_lexer": "ipython3",
      "version": "3.7.6"
    },
    "colab": {
      "provenance": []
    }
  },
  "nbformat": 4,
  "nbformat_minor": 0
}